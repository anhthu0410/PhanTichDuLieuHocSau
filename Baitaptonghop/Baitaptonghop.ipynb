{
 "cells": [
  {
   "cell_type": "code",
   "execution_count": 211,
   "metadata": {},
   "outputs": [],
   "source": [
    "import pandas as pd\n",
    "import numpy as np\n",
    "from scipy.stats import skew, kurtosis\n",
    "import matplotlib.pyplot as plt\n",
    "import seaborn as sns\n",
    "import scipy.stats as stats"
   ]
  },
  {
   "cell_type": "code",
   "execution_count": 212,
   "metadata": {},
   "outputs": [],
   "source": [
    "df = pd.read_csv('babies.txt')"
   ]
  },
  {
   "cell_type": "code",
   "execution_count": 213,
   "metadata": {},
   "outputs": [
    {
     "data": {
      "text/html": [
       "<div>\n",
       "<style scoped>\n",
       "    .dataframe tbody tr th:only-of-type {\n",
       "        vertical-align: middle;\n",
       "    }\n",
       "\n",
       "    .dataframe tbody tr th {\n",
       "        vertical-align: top;\n",
       "    }\n",
       "\n",
       "    .dataframe thead th {\n",
       "        text-align: right;\n",
       "    }\n",
       "</style>\n",
       "<table border=\"1\" class=\"dataframe\">\n",
       "  <thead>\n",
       "    <tr style=\"text-align: right;\">\n",
       "      <th></th>\n",
       "      <th>bwt smoke</th>\n",
       "    </tr>\n",
       "  </thead>\n",
       "  <tbody>\n",
       "    <tr>\n",
       "      <th>0</th>\n",
       "      <td>120   0</td>\n",
       "    </tr>\n",
       "    <tr>\n",
       "      <th>1</th>\n",
       "      <td>113   0</td>\n",
       "    </tr>\n",
       "    <tr>\n",
       "      <th>2</th>\n",
       "      <td>128   1</td>\n",
       "    </tr>\n",
       "    <tr>\n",
       "      <th>3</th>\n",
       "      <td>123   0</td>\n",
       "    </tr>\n",
       "    <tr>\n",
       "      <th>4</th>\n",
       "      <td>108   1</td>\n",
       "    </tr>\n",
       "    <tr>\n",
       "      <th>...</th>\n",
       "      <td>...</td>\n",
       "    </tr>\n",
       "    <tr>\n",
       "      <th>1231</th>\n",
       "      <td>113   0</td>\n",
       "    </tr>\n",
       "    <tr>\n",
       "      <th>1232</th>\n",
       "      <td>128   0</td>\n",
       "    </tr>\n",
       "    <tr>\n",
       "      <th>1233</th>\n",
       "      <td>130   1</td>\n",
       "    </tr>\n",
       "    <tr>\n",
       "      <th>1234</th>\n",
       "      <td>125   0</td>\n",
       "    </tr>\n",
       "    <tr>\n",
       "      <th>1235</th>\n",
       "      <td>117   0</td>\n",
       "    </tr>\n",
       "  </tbody>\n",
       "</table>\n",
       "<p>1236 rows × 1 columns</p>\n",
       "</div>"
      ],
      "text/plain": [
       "     bwt smoke\n",
       "0      120   0\n",
       "1      113   0\n",
       "2      128   1\n",
       "3      123   0\n",
       "4      108   1\n",
       "...        ...\n",
       "1231   113   0\n",
       "1232   128   0\n",
       "1233   130   1\n",
       "1234   125   0\n",
       "1235   117   0\n",
       "\n",
       "[1236 rows x 1 columns]"
      ]
     },
     "execution_count": 213,
     "metadata": {},
     "output_type": "execute_result"
    }
   ],
   "source": [
    "df"
   ]
  },
  {
   "cell_type": "markdown",
   "metadata": {},
   "source": [
    "Phần 1: Mô tả dữ liệu bằng các trị số\n",
    "Câu 1: Tính các đại lượng thống kê chi hai tập dữ liệu"
   ]
  },
  {
   "cell_type": "code",
   "execution_count": 214,
   "metadata": {},
   "outputs": [],
   "source": [
    "# Đặt tên cho cột\n",
    "df.columns = ['bwt_smoke']"
   ]
  },
  {
   "cell_type": "code",
   "execution_count": 215,
   "metadata": {},
   "outputs": [],
   "source": [
    "# Tách cột 'bwt_smoke' thành hai cột 'bwt' và 'smoke'\n",
    "df[['bwt', 'smoke']] = df['bwt_smoke'].str.split(expand=True)"
   ]
  },
  {
   "cell_type": "code",
   "execution_count": 216,
   "metadata": {},
   "outputs": [],
   "source": [
    "# Chuyển đổi kiểu dữ liệu cho các cột mới tách\n",
    "df['bwt'] = df['bwt'].astype(int)\n",
    "df['smoke'] = df['smoke'].astype(int)"
   ]
  },
  {
   "cell_type": "code",
   "execution_count": 217,
   "metadata": {},
   "outputs": [],
   "source": [
    "# Loại bỏ cột 'bwt_smoke'\n",
    "df.drop(columns=['bwt_smoke'], inplace=True)"
   ]
  },
  {
   "cell_type": "code",
   "execution_count": 218,
   "metadata": {},
   "outputs": [
    {
     "data": {
      "text/html": [
       "<div>\n",
       "<style scoped>\n",
       "    .dataframe tbody tr th:only-of-type {\n",
       "        vertical-align: middle;\n",
       "    }\n",
       "\n",
       "    .dataframe tbody tr th {\n",
       "        vertical-align: top;\n",
       "    }\n",
       "\n",
       "    .dataframe thead th {\n",
       "        text-align: right;\n",
       "    }\n",
       "</style>\n",
       "<table border=\"1\" class=\"dataframe\">\n",
       "  <thead>\n",
       "    <tr style=\"text-align: right;\">\n",
       "      <th></th>\n",
       "      <th>bwt</th>\n",
       "      <th>smoke</th>\n",
       "    </tr>\n",
       "  </thead>\n",
       "  <tbody>\n",
       "    <tr>\n",
       "      <th>0</th>\n",
       "      <td>120</td>\n",
       "      <td>0</td>\n",
       "    </tr>\n",
       "    <tr>\n",
       "      <th>1</th>\n",
       "      <td>113</td>\n",
       "      <td>0</td>\n",
       "    </tr>\n",
       "    <tr>\n",
       "      <th>2</th>\n",
       "      <td>128</td>\n",
       "      <td>1</td>\n",
       "    </tr>\n",
       "    <tr>\n",
       "      <th>3</th>\n",
       "      <td>123</td>\n",
       "      <td>0</td>\n",
       "    </tr>\n",
       "    <tr>\n",
       "      <th>4</th>\n",
       "      <td>108</td>\n",
       "      <td>1</td>\n",
       "    </tr>\n",
       "    <tr>\n",
       "      <th>...</th>\n",
       "      <td>...</td>\n",
       "      <td>...</td>\n",
       "    </tr>\n",
       "    <tr>\n",
       "      <th>1231</th>\n",
       "      <td>113</td>\n",
       "      <td>0</td>\n",
       "    </tr>\n",
       "    <tr>\n",
       "      <th>1232</th>\n",
       "      <td>128</td>\n",
       "      <td>0</td>\n",
       "    </tr>\n",
       "    <tr>\n",
       "      <th>1233</th>\n",
       "      <td>130</td>\n",
       "      <td>1</td>\n",
       "    </tr>\n",
       "    <tr>\n",
       "      <th>1234</th>\n",
       "      <td>125</td>\n",
       "      <td>0</td>\n",
       "    </tr>\n",
       "    <tr>\n",
       "      <th>1235</th>\n",
       "      <td>117</td>\n",
       "      <td>0</td>\n",
       "    </tr>\n",
       "  </tbody>\n",
       "</table>\n",
       "<p>1236 rows × 2 columns</p>\n",
       "</div>"
      ],
      "text/plain": [
       "      bwt  smoke\n",
       "0     120      0\n",
       "1     113      0\n",
       "2     128      1\n",
       "3     123      0\n",
       "4     108      1\n",
       "...   ...    ...\n",
       "1231  113      0\n",
       "1232  128      0\n",
       "1233  130      1\n",
       "1234  125      0\n",
       "1235  117      0\n",
       "\n",
       "[1236 rows x 2 columns]"
      ]
     },
     "execution_count": 218,
     "metadata": {},
     "output_type": "execute_result"
    }
   ],
   "source": [
    "df"
   ]
  },
  {
   "cell_type": "code",
   "execution_count": 219,
   "metadata": {},
   "outputs": [],
   "source": [
    "# Loại bỏ các hàng có giá trị smoke là 9\n",
    "#data = df[df['smoke'] != 9]"
   ]
  },
  {
   "cell_type": "code",
   "execution_count": 220,
   "metadata": {},
   "outputs": [],
   "source": [
    "# Tách dữ liệu thành hai nhóm: mẹ hút thuốc và mẹ không hút thuốc\n",
    "group1 = df[df['smoke'] == 1]['bwt']\n",
    "group2 = df[df['smoke'] == 0]['bwt']\n"
   ]
  },
  {
   "cell_type": "code",
   "execution_count": 221,
   "metadata": {},
   "outputs": [],
   "source": [
    "# Hàm tính toán các giá trị thống kê\n",
    "def calculate_statistics(group):\n",
    "    return {\n",
    "        'Số lượng': len(group),\n",
    "        'Min': np.min(group),\n",
    "        'Max': np.max(group),\n",
    "        'Mean': np.mean(group),\n",
    "        'Sd': np.std(group, ddof=1),\n",
    "        'Var': np.var(group, ddof=1),\n",
    "        'Median': np.median(group),\n",
    "        'Quantile 0%': np.quantile(group, 0),\n",
    "        'Quantile 25%': np.quantile(group, 0.25),\n",
    "        'Quantile 50%': np.quantile(group, 0.5),\n",
    "        'Quantile 75%': np.quantile(group, 0.75),\n",
    "        'Quantile 100%': np.quantile(group, 1),\n",
    "        'IQR': np.quantile(group, 0.75) - np.quantile(group, 0.25),\n",
    "        'Skewness': skew(group),\n",
    "        'Kurtosis': kurtosis(group)\n",
    "    }"
   ]
  },
  {
   "cell_type": "code",
   "execution_count": 222,
   "metadata": {},
   "outputs": [],
   "source": [
    "# Tính toán các giá trị thống kê cho mỗi nhóm\n",
    "stats_group1 = calculate_statistics(group1)\n",
    "stats_group2 = calculate_statistics(group2)"
   ]
  },
  {
   "cell_type": "code",
   "execution_count": 223,
   "metadata": {},
   "outputs": [],
   "source": [
    "# Tạo DataFrame để hiển thị kết quả\n",
    "results = pd.DataFrame([stats_group1, stats_group2], index=['TH1: Bà mẹ hút thuốc', 'TH2: Bà mẹ không hút thuốc'])"
   ]
  },
  {
   "cell_type": "code",
   "execution_count": 224,
   "metadata": {},
   "outputs": [
    {
     "data": {
      "text/html": [
       "<div>\n",
       "<style scoped>\n",
       "    .dataframe tbody tr th:only-of-type {\n",
       "        vertical-align: middle;\n",
       "    }\n",
       "\n",
       "    .dataframe tbody tr th {\n",
       "        vertical-align: top;\n",
       "    }\n",
       "\n",
       "    .dataframe thead th {\n",
       "        text-align: right;\n",
       "    }\n",
       "</style>\n",
       "<table border=\"1\" class=\"dataframe\">\n",
       "  <thead>\n",
       "    <tr style=\"text-align: right;\">\n",
       "      <th></th>\n",
       "      <th>Số lượng</th>\n",
       "      <th>Min</th>\n",
       "      <th>Max</th>\n",
       "      <th>Mean</th>\n",
       "      <th>Sd</th>\n",
       "      <th>Var</th>\n",
       "      <th>Median</th>\n",
       "      <th>Quantile 0%</th>\n",
       "      <th>Quantile 25%</th>\n",
       "      <th>Quantile 50%</th>\n",
       "      <th>Quantile 75%</th>\n",
       "      <th>Quantile 100%</th>\n",
       "      <th>IQR</th>\n",
       "      <th>Skewness</th>\n",
       "      <th>Kurtosis</th>\n",
       "    </tr>\n",
       "  </thead>\n",
       "  <tbody>\n",
       "    <tr>\n",
       "      <th>TH1: Bà mẹ hút thuốc</th>\n",
       "      <td>484</td>\n",
       "      <td>58</td>\n",
       "      <td>163</td>\n",
       "      <td>114.109504</td>\n",
       "      <td>18.098946</td>\n",
       "      <td>327.571835</td>\n",
       "      <td>115.0</td>\n",
       "      <td>58</td>\n",
       "      <td>102.0</td>\n",
       "      <td>115.0</td>\n",
       "      <td>126.0</td>\n",
       "      <td>163</td>\n",
       "      <td>24.0</td>\n",
       "      <td>-0.033595</td>\n",
       "      <td>-0.011968</td>\n",
       "    </tr>\n",
       "    <tr>\n",
       "      <th>TH2: Bà mẹ không hút thuốc</th>\n",
       "      <td>742</td>\n",
       "      <td>55</td>\n",
       "      <td>176</td>\n",
       "      <td>123.047170</td>\n",
       "      <td>17.398689</td>\n",
       "      <td>302.714371</td>\n",
       "      <td>123.0</td>\n",
       "      <td>55</td>\n",
       "      <td>113.0</td>\n",
       "      <td>123.0</td>\n",
       "      <td>134.0</td>\n",
       "      <td>176</td>\n",
       "      <td>21.0</td>\n",
       "      <td>-0.186984</td>\n",
       "      <td>1.037060</td>\n",
       "    </tr>\n",
       "  </tbody>\n",
       "</table>\n",
       "</div>"
      ],
      "text/plain": [
       "                            Số lượng  Min  Max        Mean         Sd  \\\n",
       "TH1: Bà mẹ hút thuốc             484   58  163  114.109504  18.098946   \n",
       "TH2: Bà mẹ không hút thuốc       742   55  176  123.047170  17.398689   \n",
       "\n",
       "                                   Var  Median  Quantile 0%  Quantile 25%  \\\n",
       "TH1: Bà mẹ hút thuốc        327.571835   115.0           58         102.0   \n",
       "TH2: Bà mẹ không hút thuốc  302.714371   123.0           55         113.0   \n",
       "\n",
       "                            Quantile 50%  Quantile 75%  Quantile 100%   IQR  \\\n",
       "TH1: Bà mẹ hút thuốc               115.0         126.0            163  24.0   \n",
       "TH2: Bà mẹ không hút thuốc         123.0         134.0            176  21.0   \n",
       "\n",
       "                            Skewness  Kurtosis  \n",
       "TH1: Bà mẹ hút thuốc       -0.033595 -0.011968  \n",
       "TH2: Bà mẹ không hút thuốc -0.186984  1.037060  "
      ]
     },
     "execution_count": 224,
     "metadata": {},
     "output_type": "execute_result"
    }
   ],
   "source": [
    "results"
   ]
  },
  {
   "cell_type": "code",
   "execution_count": 225,
   "metadata": {},
   "outputs": [
    {
     "name": "stdout",
     "output_type": "stream",
     "text": [
      "Phân tích dữ liệu của nhóm mẹ hút thuốc:\n",
      "1. Vị trí tập trung của dữ liệu: khoảng giá trị 114.10950413223141-115.0\n",
      "2. Tính biến động của dữ liệu:\n",
      "   - Phương sai (variance): var = 327.57183495029346\n",
      "   - Độ lệch chuẩn (standard deviation): sd = 18.09894568615237\n",
      "   - Khoảng giá trị (range): min = 58.0, max = 163.0 → range = 105.0\n",
      "   - Khoảng cách giữa 2 phần tư vị (IQR): Q3-Q1 = 126.0-102.0 = 24.0\n",
      "   Nhận xét: Dữ liệu phân bố gần nhau.\n",
      "3. Hình dạng phân bố của dữ liệu:\n",
      "   - Độ lệch (Skewness): skewness = -0.03359497605204854\n",
      "     Nhận xét: Dữ liệu hơi lệch về phía trái.\n",
      "   - Độ bè nhọn của đỉnh dữ liệu (Kurtosis): kurtosis = -0.011967521206595944\n",
      "     Nhận xét: Đỉnh dữ liệu nhọn, hai bên giảm với tốc độ vừa phải.\n"
     ]
    }
   ],
   "source": [
    "# Phân tích dữ liệu của nhóm mẹ hút thuốc\n",
    "stats_smoke = results.loc['TH1: Bà mẹ hút thuốc']\n",
    "\n",
    "# Tính range\n",
    "range_value = stats_smoke['Max'] - stats_smoke['Min']\n",
    "\n",
    "# Tính IQR\n",
    "iqr = stats_smoke['Quantile 75%'] - stats_smoke['Quantile 25%']\n",
    "\n",
    "# In kết quả phân tích dữ liệu\n",
    "print(\"Phân tích dữ liệu của nhóm mẹ hút thuốc:\")\n",
    "print(f\"1. Vị trí tập trung của dữ liệu: khoảng giá trị {stats_smoke['Mean']}-{stats_smoke['Median']}\")\n",
    "print(\"2. Tính biến động của dữ liệu:\")\n",
    "print(f\"   - Phương sai (variance): var = {stats_smoke['Var']}\")\n",
    "print(f\"   - Độ lệch chuẩn (standard deviation): sd = {stats_smoke['Sd']}\")\n",
    "print(f\"   - Khoảng giá trị (range): min = {stats_smoke['Min']}, max = {stats_smoke['Max']} → range = {range_value}\")\n",
    "print(f\"   - Khoảng cách giữa 2 phần tư vị (IQR): Q3-Q1 = {stats_smoke['Quantile 75%']}-{stats_smoke['Quantile 25%']} = {iqr}\")\n",
    "print(\"   Nhận xét: Dữ liệu phân bố gần nhau.\")\n",
    "print(\"3. Hình dạng phân bố của dữ liệu:\")\n",
    "print(f\"   - Độ lệch (Skewness): skewness = {stats_smoke['Skewness']}\")\n",
    "print(f\"     Nhận xét: Dữ liệu hơi lệch về phía trái.\")\n",
    "print(f\"   - Độ bè nhọn của đỉnh dữ liệu (Kurtosis): kurtosis = {stats_smoke['Kurtosis']}\")\n",
    "print(f\"     Nhận xét: Đỉnh dữ liệu nhọn, hai bên giảm với tốc độ vừa phải.\")"
   ]
  },
  {
   "cell_type": "code",
   "execution_count": 226,
   "metadata": {},
   "outputs": [
    {
     "name": "stdout",
     "output_type": "stream",
     "text": [
      "Phân tích dữ liệu của nhóm mẹ hút thuốc:\n",
      "1. Vị trí tập trung của dữ liệu: khoảng giá trị 123.04716981132076-123.0\n",
      "2. Tính biến động của dữ liệu:\n",
      "   - Phương sai (variance): var = 302.7143711964963\n",
      "   - Độ lệch chuẩn (standard deviation): sd = 17.39868877808027\n",
      "   - Khoảng giá trị (range): min = 55.0, max = 176.0 → range = 121.0\n",
      "   - Khoảng cách giữa 2 phần tư vị (IQR): Q3-Q1 = 134.0-113.0 = 21.0\n",
      "   Nhận xét: Dữ liệu phân bố gần nhau.\n",
      "3. Hình dạng phân bố của dữ liệu:\n",
      "   - Độ lệch (Skewness): skewness = -0.18698408606617228\n",
      "     Nhận xét: Dữ liệu hơi lệch về phía trái.\n",
      "   - Độ bè nhọn của đỉnh dữ liệu (Kurtosis): kurtosis = 1.0370603124338222\n",
      "     Nhận xét: Đỉnh dữ liệu nhọn, hai bên giảm với tốc độ vừa phải.\n"
     ]
    }
   ],
   "source": [
    "# Phân tích dữ liệu của nhóm mẹ không hút thuốc\n",
    "stats_smoke = results.loc['TH2: Bà mẹ không hút thuốc']\n",
    "\n",
    "# Tính range\n",
    "range_value = stats_smoke['Max'] - stats_smoke['Min']\n",
    "\n",
    "# Tính IQR\n",
    "iqr = stats_smoke['Quantile 75%'] - stats_smoke['Quantile 25%']\n",
    "\n",
    "# In kết quả phân tích dữ liệu\n",
    "print(\"Phân tích dữ liệu của nhóm mẹ hút thuốc:\")\n",
    "print(f\"1. Vị trí tập trung của dữ liệu: khoảng giá trị {stats_smoke['Mean']}-{stats_smoke['Median']}\")\n",
    "print(\"2. Tính biến động của dữ liệu:\")\n",
    "print(f\"   - Phương sai (variance): var = {stats_smoke['Var']}\")\n",
    "print(f\"   - Độ lệch chuẩn (standard deviation): sd = {stats_smoke['Sd']}\")\n",
    "print(f\"   - Khoảng giá trị (range): min = {stats_smoke['Min']}, max = {stats_smoke['Max']} → range = {range_value}\")\n",
    "print(f\"   - Khoảng cách giữa 2 phần tư vị (IQR): Q3-Q1 = {stats_smoke['Quantile 75%']}-{stats_smoke['Quantile 25%']} = {iqr}\")\n",
    "print(\"   Nhận xét: Dữ liệu phân bố gần nhau.\")\n",
    "print(\"3. Hình dạng phân bố của dữ liệu:\")\n",
    "print(f\"   - Độ lệch (Skewness): skewness = {stats_smoke['Skewness']}\")\n",
    "print(f\"     Nhận xét: Dữ liệu hơi lệch về phía trái.\")\n",
    "print(f\"   - Độ bè nhọn của đỉnh dữ liệu (Kurtosis): kurtosis = {stats_smoke['Kurtosis']}\")\n",
    "print(f\"     Nhận xét: Đỉnh dữ liệu nhọn, hai bên giảm với tốc độ vừa phải.\")"
   ]
  },
  {
   "cell_type": "markdown",
   "metadata": {},
   "source": [
    "Phần 2: Biểu diễn hình học của dữ liệu"
   ]
  },
  {
   "cell_type": "code",
   "execution_count": 227,
   "metadata": {},
   "outputs": [],
   "source": [
    "# Vẽ Histogram của dữ liệu cân nặng của trẻ"
   ]
  },
  {
   "cell_type": "code",
   "execution_count": 228,
   "metadata": {},
   "outputs": [
    {
     "data": {
      "text/plain": [
       "(array([  3.,  12.,  25.,  60., 101., 112.,  98.,  36.,  27.,  10.]),\n",
       " array([ 58. ,  68.5,  79. ,  89.5, 100. , 110.5, 121. , 131.5, 142. ,\n",
       "        152.5, 163. ]),\n",
       " <BarContainer object of 10 artists>)"
      ]
     },
     "execution_count": 228,
     "metadata": {},
     "output_type": "execute_result"
    },
    {
     "data": {
      "image/png": "[encoded data removed]",
      "text/plain": [
       "<Figure size 640x480 with 1 Axes>"
      ]
     },
     "metadata": {},
     "output_type": "display_data"
    }
   ],
   "source": [
    "# Histogram cho nhóm mẹ hút thuốc\n",
    "plt.hist(group1)"
   ]
  },
  {
   "cell_type": "code",
   "execution_count": 229,
   "metadata": {},
   "outputs": [
    {
     "data": {
      "text/plain": [
       "(array([  3.,   3.,   6.,  10.,  15.,  45.,  81., 135., 153., 127.,  86.,\n",
       "         42.,  19.,  10.,   7.]),\n",
       " array([ 55.        ,  63.06666667,  71.13333333,  79.2       ,\n",
       "         87.26666667,  95.33333333, 103.4       , 111.46666667,\n",
       "        119.53333333, 127.6       , 135.66666667, 143.73333333,\n",
       "        151.8       , 159.86666667, 167.93333333, 176.        ]),\n",
       " <BarContainer object of 15 artists>)"
      ]
     },
     "execution_count": 229,
     "metadata": {},
     "output_type": "execute_result"
    },
    {
     "data": {
      "image/png": "[encoded data removed]",
      "text/plain": [
       "<Figure size 640x480 with 1 Axes>"
      ]
     },
     "metadata": {},
     "output_type": "display_data"
    }
   ],
   "source": [
    "# Histogram cho nhóm mẹ không hút thuốc\n",
    "plt.hist(group2, bins=15) "
   ]
  },
  {
   "cell_type": "code",
   "execution_count": 230,
   "metadata": {},
   "outputs": [
    {
     "data": {
      "text/plain": [
       "<AxesSubplot:ylabel='bwt'>"
      ]
     },
     "execution_count": 230,
     "metadata": {},
     "output_type": "execute_result"
    },
    {
     "data": {
      "image/png": "[encoded data removed]",
      "text/plain": [
       "<Figure size 640x480 with 1 Axes>"
      ]
     },
     "metadata": {},
     "output_type": "display_data"
    }
   ],
   "source": [
    "# Lọc dữ liệu chỉ cho nhóm mẹ hút thuốc\n",
    "group_smoke = df[df['smoke'] == 1]\n",
    "\n",
    "# Vẽ Boxplot cho nhóm mẹ hút thuốc\n",
    "sns.boxplot(y='bwt', data=group_smoke)\n"
   ]
  },
  {
   "cell_type": "code",
   "execution_count": 231,
   "metadata": {},
   "outputs": [
    {
     "data": {
      "text/plain": [
       "<AxesSubplot:ylabel='bwt'>"
      ]
     },
     "execution_count": 231,
     "metadata": {},
     "output_type": "execute_result"
    },
    {
     "data": {
      "image/png": "[encoded data removed]",
      "text/plain": [
       "<Figure size 640x480 with 1 Axes>"
      ]
     },
     "metadata": {},
     "output_type": "display_data"
    }
   ],
   "source": [
    "# Lọc dữ liệu chỉ cho nhóm mẹ hút thuốc\n",
    "group_nonsmoke = df[df['smoke'] == 0]\n",
    "\n",
    "# Vẽ Boxplot cho nhóm mẹ hút thuốc\n",
    "sns.boxplot(y='bwt', data=group_nonsmoke)"
   ]
  },
  {
   "cell_type": "code",
   "execution_count": 232,
   "metadata": {},
   "outputs": [
    {
     "name": "stderr",
     "output_type": "stream",
     "text": [
      "C:\\Users\\Admin\\AppData\\Local\\Temp\\ipykernel_340\\3648777246.py:2: FutureWarning: \n",
      "\n",
      "Passing `palette` without assigning `hue` is deprecated and will be removed in v0.14.0. Assign the `x` variable to `hue` and set `legend=False` for the same effect.\n",
      "\n",
      "  sns.boxplot(x='smoke', y='bwt', data=df, palette='Set2')\n"
     ]
    },
    {
     "data": {
      "text/plain": [
       "<AxesSubplot:xlabel='smoke', ylabel='bwt'>"
      ]
     },
     "execution_count": 232,
     "metadata": {},
     "output_type": "execute_result"
    },
    {
     "data": {
      "image/png": "[encoded data removed]",
      "text/plain": [
       "<Figure size 640x480 with 1 Axes>"
      ]
     },
     "metadata": {},
     "output_type": "display_data"
    }
   ],
   "source": [
    "# Boxplot cho nhóm mẹ hút thuốc và không hút thuốc\n",
    "sns.boxplot(x='smoke', y='bwt', data=df, palette='Set2')"
   ]
  },
  {
   "cell_type": "code",
   "execution_count": 234,
   "metadata": {},
   "outputs": [
    {
     "data": {
      "text/plain": [
       "Text(0.5, 1.0, 'QQ-plot - Mẹ hút thuốc')"
      ]
     },
     "execution_count": 234,
     "metadata": {},
     "output_type": "execute_result"
    },
    {
     "data": {
      "image/png": "[encoded data removed]",
      "text/plain": [
       "<Figure size 640x480 with 1 Axes>"
      ]
     },
     "metadata": {},
     "output_type": "display_data"
    }
   ],
   "source": [
    "# QQ-plot cho nhóm mẹ hút thuốc\n",
    "stats.probplot(group1, dist=\"norm\", plot=plt)\n",
    "plt.title('QQ-plot - Mẹ hút thuốc')"
   ]
  },
  {
   "cell_type": "code",
   "execution_count": 237,
   "metadata": {},
   "outputs": [
    {
     "data": {
      "text/plain": [
       "Text(0.5, 1.0, 'QQ-plot - Mẹ không hút thuốc')"
      ]
     },
     "execution_count": 237,
     "metadata": {},
     "output_type": "execute_result"
    },
    {
     "data": {
      "image/png": "[encoded data removed]",
      "text/plain": [
       "<Figure size 640x480 with 1 Axes>"
      ]
     },
     "metadata": {},
     "output_type": "display_data"
    }
   ],
   "source": [
    "# QQ-plot cho nhóm mẹ không hút thuốc\n",
    "stats.probplot(group2, dist=\"norm\", plot=plt)\n",
    "plt.title('QQ-plot - Mẹ không hút thuốc')"
   ]
  }
 ],
 "metadata": {
  "kernelspec": {
   "display_name": "Python 3",
   "language": "python",
   "name": "python3"
  },
  "language_info": {
   "codemirror_mode": {
    "name": "ipython",
    "version": 3
   },
   "file_extension": ".py",
   "mimetype": "text/x-python",
   "name": "python",
   "nbconvert_exporter": "python",
   "pygments_lexer": "ipython3",
   "version": "3.10.0"
  }
 },
 "nbformat": 4,
 "nbformat_minor": 2
}
